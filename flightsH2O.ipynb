{
 "cells": [
  {
   "cell_type": "markdown",
   "metadata": {},
   "source": [
    "This tutorial was taken from an H2O tutorial online: http://docs.h2o.ai/h2o/latest-stable/h2o-docs/starting-h2o.html"
   ]
  },
  {
   "cell_type": "code",
   "execution_count": 1,
   "metadata": {},
   "outputs": [
    {
     "name": "stdout",
     "output_type": "stream",
     "text": [
      "Checking whether there is an H2O instance running at http://localhost:54321 ..... not found.\n",
      "Attempting to start a local H2O server...\n",
      "; Java HotSpot(TM) 64-Bit Server VM (build 13.0.2+8, mixed mode, sharing)\n",
      "  Starting server from c:\\users\\m\\anaconda2\\envs\\python36\\lib\\site-packages\\h2o\\backend\\bin\\h2o.jar\n",
      "  Ice root: C:\\Users\\m\\AppData\\Local\\Temp\\tmp8r46t_2b\n",
      "  JVM stdout: C:\\Users\\m\\AppData\\Local\\Temp\\tmp8r46t_2b\\h2o_m_started_from_python.out\n",
      "  JVM stderr: C:\\Users\\m\\AppData\\Local\\Temp\\tmp8r46t_2b\\h2o_m_started_from_python.err\n",
      "  Server is running at http://127.0.0.1:54321\n",
      "Connecting to H2O server at http://127.0.0.1:54321 ... successful.\n"
     ]
    },
    {
     "data": {
      "text/html": [
       "<div style=\"overflow:auto\"><table style=\"width:50%\"><tr><td>H2O cluster uptime:</td>\n",
       "<td>09 secs</td></tr>\n",
       "<tr><td>H2O cluster timezone:</td>\n",
       "<td>America/Los_Angeles</td></tr>\n",
       "<tr><td>H2O data parsing timezone:</td>\n",
       "<td>UTC</td></tr>\n",
       "<tr><td>H2O cluster version:</td>\n",
       "<td>3.28.0.2</td></tr>\n",
       "<tr><td>H2O cluster version age:</td>\n",
       "<td>14 days, 20 hours and 35 minutes </td></tr>\n",
       "<tr><td>H2O cluster name:</td>\n",
       "<td>H2O_from_python_m_6gh42v</td></tr>\n",
       "<tr><td>H2O cluster total nodes:</td>\n",
       "<td>1</td></tr>\n",
       "<tr><td>H2O cluster free memory:</td>\n",
       "<td>4 Gb</td></tr>\n",
       "<tr><td>H2O cluster total cores:</td>\n",
       "<td>2</td></tr>\n",
       "<tr><td>H2O cluster allowed cores:</td>\n",
       "<td>2</td></tr>\n",
       "<tr><td>H2O cluster status:</td>\n",
       "<td>locked, healthy</td></tr>\n",
       "<tr><td>H2O connection url:</td>\n",
       "<td>http://127.0.0.1:54321</td></tr>\n",
       "<tr><td>H2O connection proxy:</td>\n",
       "<td>{'http': None, 'https': None}</td></tr>\n",
       "<tr><td>H2O internal security:</td>\n",
       "<td>False</td></tr>\n",
       "<tr><td>H2O API Extensions:</td>\n",
       "<td>Amazon S3, Algos, AutoML, Core V3, TargetEncoder, Core V4</td></tr>\n",
       "<tr><td>Python version:</td>\n",
       "<td>3.6.9 final</td></tr></table></div>"
      ],
      "text/plain": [
       "--------------------------  ---------------------------------------------------------\n",
       "H2O cluster uptime:         09 secs\n",
       "H2O cluster timezone:       America/Los_Angeles\n",
       "H2O data parsing timezone:  UTC\n",
       "H2O cluster version:        3.28.0.2\n",
       "H2O cluster version age:    14 days, 20 hours and 35 minutes\n",
       "H2O cluster name:           H2O_from_python_m_6gh42v\n",
       "H2O cluster total nodes:    1\n",
       "H2O cluster free memory:    4 Gb\n",
       "H2O cluster total cores:    2\n",
       "H2O cluster allowed cores:  2\n",
       "H2O cluster status:         locked, healthy\n",
       "H2O connection url:         http://127.0.0.1:54321\n",
       "H2O connection proxy:       {'http': None, 'https': None}\n",
       "H2O internal security:      False\n",
       "H2O API Extensions:         Amazon S3, Algos, AutoML, Core V3, TargetEncoder, Core V4\n",
       "Python version:             3.6.9 final\n",
       "--------------------------  ---------------------------------------------------------"
      ]
     },
     "metadata": {},
     "output_type": "display_data"
    }
   ],
   "source": [
    "import h2o\n",
    "from h2o.estimators.gbm import H2OGradientBoostingEstimator\n",
    "\n",
    "h2o.init(max_mem_size=4)\n"
   ]
  },
  {
   "cell_type": "markdown",
   "metadata": {},
   "source": [
    "This data is from kaggle when googling 'airline data h2o' because the tutorial file was not a valid web page."
   ]
  },
  {
   "cell_type": "code",
   "execution_count": 2,
   "metadata": {},
   "outputs": [
    {
     "name": "stdout",
     "output_type": "stream",
     "text": [
      "Parse progress: |█████████████████████████████████████████████████████████| 100%\n"
     ]
    }
   ],
   "source": [
    "\n",
    "flights2 = h2o.import_file(\"flights.csv\")\n"
   ]
  },
  {
   "cell_type": "code",
   "execution_count": 3,
   "metadata": {},
   "outputs": [
    {
     "data": {
      "text/plain": [
       "(5819079, 31)"
      ]
     },
     "execution_count": 3,
     "metadata": {},
     "output_type": "execute_result"
    }
   ],
   "source": [
    "flights2\n",
    "flights2.shape"
   ]
  },
  {
   "cell_type": "code",
   "execution_count": 4,
   "metadata": {},
   "outputs": [
    {
     "data": {
      "text/html": [
       "<table>\n",
       "<thead>\n",
       "<tr><th style=\"text-align: right;\">  YEAR</th><th style=\"text-align: right;\">  MONTH</th><th style=\"text-align: right;\">  DAY</th><th style=\"text-align: right;\">  DAY_OF_WEEK</th><th>AIRLINE  </th><th style=\"text-align: right;\">  FLIGHT_NUMBER</th><th>TAIL_NUMBER  </th><th>ORIGIN_AIRPORT  </th><th>DESTINATION_AIRPORT  </th><th style=\"text-align: right;\">  SCHEDULED_DEPARTURE</th><th style=\"text-align: right;\">  DEPARTURE_TIME</th><th style=\"text-align: right;\">  DEPARTURE_DELAY</th><th style=\"text-align: right;\">  TAXI_OUT</th><th style=\"text-align: right;\">  WHEELS_OFF</th><th style=\"text-align: right;\">  SCHEDULED_TIME</th><th style=\"text-align: right;\">  ELAPSED_TIME</th><th style=\"text-align: right;\">  AIR_TIME</th><th style=\"text-align: right;\">  DISTANCE</th><th style=\"text-align: right;\">  WHEELS_ON</th><th style=\"text-align: right;\">  TAXI_IN</th><th style=\"text-align: right;\">  SCHEDULED_ARRIVAL</th><th style=\"text-align: right;\">  ARRIVAL_TIME</th><th style=\"text-align: right;\">  ARRIVAL_DELAY</th><th style=\"text-align: right;\">  DIVERTED</th><th style=\"text-align: right;\">  CANCELLED</th><th>CANCELLATION_REASON  </th><th style=\"text-align: right;\">  AIR_SYSTEM_DELAY</th><th style=\"text-align: right;\">  SECURITY_DELAY</th><th style=\"text-align: right;\">  AIRLINE_DELAY</th><th style=\"text-align: right;\">  LATE_AIRCRAFT_DELAY</th><th style=\"text-align: right;\">  WEATHER_DELAY</th></tr>\n",
       "</thead>\n",
       "<tbody>\n",
       "<tr><td style=\"text-align: right;\">  2015</td><td style=\"text-align: right;\">      1</td><td style=\"text-align: right;\">    1</td><td style=\"text-align: right;\">            4</td><td>AS       </td><td style=\"text-align: right;\">             98</td><td>N407AS       </td><td>ANC             </td><td>SEA                  </td><td style=\"text-align: right;\">                    5</td><td style=\"text-align: right;\">            2354</td><td style=\"text-align: right;\">              -11</td><td style=\"text-align: right;\">        21</td><td style=\"text-align: right;\">          15</td><td style=\"text-align: right;\">             205</td><td style=\"text-align: right;\">           194</td><td style=\"text-align: right;\">       169</td><td style=\"text-align: right;\">      1448</td><td style=\"text-align: right;\">        404</td><td style=\"text-align: right;\">        4</td><td style=\"text-align: right;\">                430</td><td style=\"text-align: right;\">           408</td><td style=\"text-align: right;\">            -22</td><td style=\"text-align: right;\">         0</td><td style=\"text-align: right;\">          0</td><td>                     </td><td style=\"text-align: right;\">               nan</td><td style=\"text-align: right;\">             nan</td><td style=\"text-align: right;\">            nan</td><td style=\"text-align: right;\">                  nan</td><td style=\"text-align: right;\">            nan</td></tr>\n",
       "<tr><td style=\"text-align: right;\">  2015</td><td style=\"text-align: right;\">      1</td><td style=\"text-align: right;\">    1</td><td style=\"text-align: right;\">            4</td><td>AA       </td><td style=\"text-align: right;\">           2336</td><td>N3KUAA       </td><td>LAX             </td><td>PBI                  </td><td style=\"text-align: right;\">                   10</td><td style=\"text-align: right;\">               2</td><td style=\"text-align: right;\">               -8</td><td style=\"text-align: right;\">        12</td><td style=\"text-align: right;\">          14</td><td style=\"text-align: right;\">             280</td><td style=\"text-align: right;\">           279</td><td style=\"text-align: right;\">       263</td><td style=\"text-align: right;\">      2330</td><td style=\"text-align: right;\">        737</td><td style=\"text-align: right;\">        4</td><td style=\"text-align: right;\">                750</td><td style=\"text-align: right;\">           741</td><td style=\"text-align: right;\">             -9</td><td style=\"text-align: right;\">         0</td><td style=\"text-align: right;\">          0</td><td>                     </td><td style=\"text-align: right;\">               nan</td><td style=\"text-align: right;\">             nan</td><td style=\"text-align: right;\">            nan</td><td style=\"text-align: right;\">                  nan</td><td style=\"text-align: right;\">            nan</td></tr>\n",
       "<tr><td style=\"text-align: right;\">  2015</td><td style=\"text-align: right;\">      1</td><td style=\"text-align: right;\">    1</td><td style=\"text-align: right;\">            4</td><td>US       </td><td style=\"text-align: right;\">            840</td><td>N171US       </td><td>SFO             </td><td>CLT                  </td><td style=\"text-align: right;\">                   20</td><td style=\"text-align: right;\">              18</td><td style=\"text-align: right;\">               -2</td><td style=\"text-align: right;\">        16</td><td style=\"text-align: right;\">          34</td><td style=\"text-align: right;\">             286</td><td style=\"text-align: right;\">           293</td><td style=\"text-align: right;\">       266</td><td style=\"text-align: right;\">      2296</td><td style=\"text-align: right;\">        800</td><td style=\"text-align: right;\">       11</td><td style=\"text-align: right;\">                806</td><td style=\"text-align: right;\">           811</td><td style=\"text-align: right;\">              5</td><td style=\"text-align: right;\">         0</td><td style=\"text-align: right;\">          0</td><td>                     </td><td style=\"text-align: right;\">               nan</td><td style=\"text-align: right;\">             nan</td><td style=\"text-align: right;\">            nan</td><td style=\"text-align: right;\">                  nan</td><td style=\"text-align: right;\">            nan</td></tr>\n",
       "<tr><td style=\"text-align: right;\">  2015</td><td style=\"text-align: right;\">      1</td><td style=\"text-align: right;\">    1</td><td style=\"text-align: right;\">            4</td><td>AA       </td><td style=\"text-align: right;\">            258</td><td>N3HYAA       </td><td>LAX             </td><td>MIA                  </td><td style=\"text-align: right;\">                   20</td><td style=\"text-align: right;\">              15</td><td style=\"text-align: right;\">               -5</td><td style=\"text-align: right;\">        15</td><td style=\"text-align: right;\">          30</td><td style=\"text-align: right;\">             285</td><td style=\"text-align: right;\">           281</td><td style=\"text-align: right;\">       258</td><td style=\"text-align: right;\">      2342</td><td style=\"text-align: right;\">        748</td><td style=\"text-align: right;\">        8</td><td style=\"text-align: right;\">                805</td><td style=\"text-align: right;\">           756</td><td style=\"text-align: right;\">             -9</td><td style=\"text-align: right;\">         0</td><td style=\"text-align: right;\">          0</td><td>                     </td><td style=\"text-align: right;\">               nan</td><td style=\"text-align: right;\">             nan</td><td style=\"text-align: right;\">            nan</td><td style=\"text-align: right;\">                  nan</td><td style=\"text-align: right;\">            nan</td></tr>\n",
       "<tr><td style=\"text-align: right;\">  2015</td><td style=\"text-align: right;\">      1</td><td style=\"text-align: right;\">    1</td><td style=\"text-align: right;\">            4</td><td>AS       </td><td style=\"text-align: right;\">            135</td><td>N527AS       </td><td>SEA             </td><td>ANC                  </td><td style=\"text-align: right;\">                   25</td><td style=\"text-align: right;\">              24</td><td style=\"text-align: right;\">               -1</td><td style=\"text-align: right;\">        11</td><td style=\"text-align: right;\">          35</td><td style=\"text-align: right;\">             235</td><td style=\"text-align: right;\">           215</td><td style=\"text-align: right;\">       199</td><td style=\"text-align: right;\">      1448</td><td style=\"text-align: right;\">        254</td><td style=\"text-align: right;\">        5</td><td style=\"text-align: right;\">                320</td><td style=\"text-align: right;\">           259</td><td style=\"text-align: right;\">            -21</td><td style=\"text-align: right;\">         0</td><td style=\"text-align: right;\">          0</td><td>                     </td><td style=\"text-align: right;\">               nan</td><td style=\"text-align: right;\">             nan</td><td style=\"text-align: right;\">            nan</td><td style=\"text-align: right;\">                  nan</td><td style=\"text-align: right;\">            nan</td></tr>\n",
       "<tr><td style=\"text-align: right;\">  2015</td><td style=\"text-align: right;\">      1</td><td style=\"text-align: right;\">    1</td><td style=\"text-align: right;\">            4</td><td>DL       </td><td style=\"text-align: right;\">            806</td><td>N3730B       </td><td>SFO             </td><td>MSP                  </td><td style=\"text-align: right;\">                   25</td><td style=\"text-align: right;\">              20</td><td style=\"text-align: right;\">               -5</td><td style=\"text-align: right;\">        18</td><td style=\"text-align: right;\">          38</td><td style=\"text-align: right;\">             217</td><td style=\"text-align: right;\">           230</td><td style=\"text-align: right;\">       206</td><td style=\"text-align: right;\">      1589</td><td style=\"text-align: right;\">        604</td><td style=\"text-align: right;\">        6</td><td style=\"text-align: right;\">                602</td><td style=\"text-align: right;\">           610</td><td style=\"text-align: right;\">              8</td><td style=\"text-align: right;\">         0</td><td style=\"text-align: right;\">          0</td><td>                     </td><td style=\"text-align: right;\">               nan</td><td style=\"text-align: right;\">             nan</td><td style=\"text-align: right;\">            nan</td><td style=\"text-align: right;\">                  nan</td><td style=\"text-align: right;\">            nan</td></tr>\n",
       "<tr><td style=\"text-align: right;\">  2015</td><td style=\"text-align: right;\">      1</td><td style=\"text-align: right;\">    1</td><td style=\"text-align: right;\">            4</td><td>NK       </td><td style=\"text-align: right;\">            612</td><td>N635NK       </td><td>LAS             </td><td>MSP                  </td><td style=\"text-align: right;\">                   25</td><td style=\"text-align: right;\">              19</td><td style=\"text-align: right;\">               -6</td><td style=\"text-align: right;\">        11</td><td style=\"text-align: right;\">          30</td><td style=\"text-align: right;\">             181</td><td style=\"text-align: right;\">           170</td><td style=\"text-align: right;\">       154</td><td style=\"text-align: right;\">      1299</td><td style=\"text-align: right;\">        504</td><td style=\"text-align: right;\">        5</td><td style=\"text-align: right;\">                526</td><td style=\"text-align: right;\">           509</td><td style=\"text-align: right;\">            -17</td><td style=\"text-align: right;\">         0</td><td style=\"text-align: right;\">          0</td><td>                     </td><td style=\"text-align: right;\">               nan</td><td style=\"text-align: right;\">             nan</td><td style=\"text-align: right;\">            nan</td><td style=\"text-align: right;\">                  nan</td><td style=\"text-align: right;\">            nan</td></tr>\n",
       "<tr><td style=\"text-align: right;\">  2015</td><td style=\"text-align: right;\">      1</td><td style=\"text-align: right;\">    1</td><td style=\"text-align: right;\">            4</td><td>US       </td><td style=\"text-align: right;\">           2013</td><td>N584UW       </td><td>LAX             </td><td>CLT                  </td><td style=\"text-align: right;\">                   30</td><td style=\"text-align: right;\">              44</td><td style=\"text-align: right;\">               14</td><td style=\"text-align: right;\">        13</td><td style=\"text-align: right;\">          57</td><td style=\"text-align: right;\">             273</td><td style=\"text-align: right;\">           249</td><td style=\"text-align: right;\">       228</td><td style=\"text-align: right;\">      2125</td><td style=\"text-align: right;\">        745</td><td style=\"text-align: right;\">        8</td><td style=\"text-align: right;\">                803</td><td style=\"text-align: right;\">           753</td><td style=\"text-align: right;\">            -10</td><td style=\"text-align: right;\">         0</td><td style=\"text-align: right;\">          0</td><td>                     </td><td style=\"text-align: right;\">               nan</td><td style=\"text-align: right;\">             nan</td><td style=\"text-align: right;\">            nan</td><td style=\"text-align: right;\">                  nan</td><td style=\"text-align: right;\">            nan</td></tr>\n",
       "<tr><td style=\"text-align: right;\">  2015</td><td style=\"text-align: right;\">      1</td><td style=\"text-align: right;\">    1</td><td style=\"text-align: right;\">            4</td><td>AA       </td><td style=\"text-align: right;\">           1112</td><td>N3LAAA       </td><td>SFO             </td><td>DFW                  </td><td style=\"text-align: right;\">                   30</td><td style=\"text-align: right;\">              19</td><td style=\"text-align: right;\">              -11</td><td style=\"text-align: right;\">        17</td><td style=\"text-align: right;\">          36</td><td style=\"text-align: right;\">             195</td><td style=\"text-align: right;\">           193</td><td style=\"text-align: right;\">       173</td><td style=\"text-align: right;\">      1464</td><td style=\"text-align: right;\">        529</td><td style=\"text-align: right;\">        3</td><td style=\"text-align: right;\">                545</td><td style=\"text-align: right;\">           532</td><td style=\"text-align: right;\">            -13</td><td style=\"text-align: right;\">         0</td><td style=\"text-align: right;\">          0</td><td>                     </td><td style=\"text-align: right;\">               nan</td><td style=\"text-align: right;\">             nan</td><td style=\"text-align: right;\">            nan</td><td style=\"text-align: right;\">                  nan</td><td style=\"text-align: right;\">            nan</td></tr>\n",
       "<tr><td style=\"text-align: right;\">  2015</td><td style=\"text-align: right;\">      1</td><td style=\"text-align: right;\">    1</td><td style=\"text-align: right;\">            4</td><td>DL       </td><td style=\"text-align: right;\">           1173</td><td>N826DN       </td><td>LAS             </td><td>ATL                  </td><td style=\"text-align: right;\">                   30</td><td style=\"text-align: right;\">              33</td><td style=\"text-align: right;\">                3</td><td style=\"text-align: right;\">        12</td><td style=\"text-align: right;\">          45</td><td style=\"text-align: right;\">             221</td><td style=\"text-align: right;\">           203</td><td style=\"text-align: right;\">       186</td><td style=\"text-align: right;\">      1747</td><td style=\"text-align: right;\">        651</td><td style=\"text-align: right;\">        5</td><td style=\"text-align: right;\">                711</td><td style=\"text-align: right;\">           656</td><td style=\"text-align: right;\">            -15</td><td style=\"text-align: right;\">         0</td><td style=\"text-align: right;\">          0</td><td>                     </td><td style=\"text-align: right;\">               nan</td><td style=\"text-align: right;\">             nan</td><td style=\"text-align: right;\">            nan</td><td style=\"text-align: right;\">                  nan</td><td style=\"text-align: right;\">            nan</td></tr>\n",
       "</tbody>\n",
       "</table>"
      ]
     },
     "metadata": {},
     "output_type": "display_data"
    },
    {
     "data": {
      "text/plain": []
     },
     "execution_count": 4,
     "metadata": {},
     "output_type": "execute_result"
    }
   ],
   "source": [
    "flights2.head()"
   ]
  },
  {
   "cell_type": "code",
   "execution_count": 5,
   "metadata": {},
   "outputs": [
    {
     "data": {
      "text/plain": [
       "['YEAR',\n",
       " 'MONTH',\n",
       " 'DAY',\n",
       " 'DAY_OF_WEEK',\n",
       " 'AIRLINE',\n",
       " 'FLIGHT_NUMBER',\n",
       " 'TAIL_NUMBER',\n",
       " 'ORIGIN_AIRPORT',\n",
       " 'DESTINATION_AIRPORT',\n",
       " 'SCHEDULED_DEPARTURE',\n",
       " 'DEPARTURE_TIME',\n",
       " 'DEPARTURE_DELAY',\n",
       " 'TAXI_OUT',\n",
       " 'WHEELS_OFF',\n",
       " 'SCHEDULED_TIME',\n",
       " 'ELAPSED_TIME',\n",
       " 'AIR_TIME',\n",
       " 'DISTANCE',\n",
       " 'WHEELS_ON',\n",
       " 'TAXI_IN',\n",
       " 'SCHEDULED_ARRIVAL',\n",
       " 'ARRIVAL_TIME',\n",
       " 'ARRIVAL_DELAY',\n",
       " 'DIVERTED',\n",
       " 'CANCELLED',\n",
       " 'CANCELLATION_REASON',\n",
       " 'AIR_SYSTEM_DELAY',\n",
       " 'SECURITY_DELAY',\n",
       " 'AIRLINE_DELAY',\n",
       " 'LATE_AIRCRAFT_DELAY',\n",
       " 'WEATHER_DELAY']"
      ]
     },
     "execution_count": 5,
     "metadata": {},
     "output_type": "execute_result"
    }
   ],
   "source": [
    "flights2.columns"
   ]
  },
  {
   "cell_type": "code",
   "execution_count": 6,
   "metadata": {},
   "outputs": [],
   "source": [
    "flights2['YEAR'] = flights2['YEAR'].asfactor()\n",
    "flights2['MONTH'] = flights2['MONTH'].asfactor()\n",
    "flights2['DAY_OF_WEEK'] = flights2['DAY_OF_WEEK'].asfactor()\n",
    "flights2['FLIGHT_NUMBER'] = flights2['FLIGHT_NUMBER'].asfactor()\n",
    "flights2['CANCELLED'] = flights2['CANCELLED'].asfactor()\n",
    "#flights2['DEPARTURE_DELAY'] = flights2['DEPARTURE_DELAY'].asfactor()"
   ]
  },
  {
   "cell_type": "code",
   "execution_count": 7,
   "metadata": {},
   "outputs": [],
   "source": [
    "predictors = ['YEAR', 'ORIGIN_AIRPORT','DESTINATION_AIRPORT','MONTH', 'DAY_OF_WEEK', \n",
    "              'FLIGHT_NUMBER','DISTANCE','AIRLINE']\n",
    "response = 'DEPARTURE_DELAY'\n"
   ]
  },
  {
   "cell_type": "code",
   "execution_count": 8,
   "metadata": {},
   "outputs": [],
   "source": [
    "train, valid = flights2.split_frame(ratios=[0.8], seed=1234)"
   ]
  },
  {
   "cell_type": "code",
   "execution_count": 9,
   "metadata": {},
   "outputs": [],
   "source": [
    "bin_num = [8,16,32,64,128,256,512,1024,2048,4096]\n",
    "label = [\"8\",\"16\",\"32\",\"64\",\"128\",\"256\",\"512\",\"1024\",\"2048\",\"4096\"]"
   ]
  },
  {
   "cell_type": "markdown",
   "metadata": {},
   "source": [
    "The next command shows the attributes available in the H2OGradientBoostingEstimator function used to train the GBM model and test on the validation set with."
   ]
  },
  {
   "cell_type": "code",
   "execution_count": 10,
   "metadata": {},
   "outputs": [
    {
     "data": {
      "text/plain": [
       "['_ModelBase__generate_partial_plots',\n",
       " '_ModelBase__generate_user_splits',\n",
       " '_ModelBase__grabValues',\n",
       " '_ModelBase__plot_1dpdp',\n",
       " '_ModelBase__plot_2dpdp',\n",
       " '_ModelBase__predFor3D',\n",
       " '_ModelBase__setAxs1D',\n",
       " '__class__',\n",
       " '__delattr__',\n",
       " '__dict__',\n",
       " '__dir__',\n",
       " '__doc__',\n",
       " '__eq__',\n",
       " '__format__',\n",
       " '__ge__',\n",
       " '__getattr__',\n",
       " '__getattribute__',\n",
       " '__gt__',\n",
       " '__hash__',\n",
       " '__init__',\n",
       " '__init_subclass__',\n",
       " '__le__',\n",
       " '__lt__',\n",
       " '__module__',\n",
       " '__ne__',\n",
       " '__new__',\n",
       " '__reduce__',\n",
       " '__reduce_ex__',\n",
       " '__repr__',\n",
       " '__setattr__',\n",
       " '__sizeof__',\n",
       " '__str__',\n",
       " '__subclasshook__',\n",
       " '__weakref__',\n",
       " '_additional_used_columns',\n",
       " '_bc',\n",
       " '_check_and_save_parm',\n",
       " '_check_targets',\n",
       " '_compute_algo',\n",
       " '_get_metrics',\n",
       " '_keyify_if_h2oframe',\n",
       " '_metrics_class',\n",
       " '_plot',\n",
       " '_print_model_scoring_history',\n",
       " '_requires_training_frame',\n",
       " '_resolve_model',\n",
       " '_train',\n",
       " '_verify_training_frame_params',\n",
       " 'actual_params',\n",
       " 'aic',\n",
       " 'algo',\n",
       " 'auc',\n",
       " 'aucpr',\n",
       " 'balance_classes',\n",
       " 'biases',\n",
       " 'build_tree_one_node',\n",
       " 'calibrate_model',\n",
       " 'calibration_frame',\n",
       " 'categorical_encoding',\n",
       " 'catoffsets',\n",
       " 'check_constant_response',\n",
       " 'checkpoint',\n",
       " 'class_sampling_factors',\n",
       " 'coef',\n",
       " 'coef_norm',\n",
       " 'col_sample_rate',\n",
       " 'col_sample_rate_change_per_level',\n",
       " 'col_sample_rate_per_tree',\n",
       " 'convert_H2OXGBoostParams_2_XGBoostParams',\n",
       " 'cross_validation_fold_assignment',\n",
       " 'cross_validation_holdout_predictions',\n",
       " 'cross_validation_metrics_summary',\n",
       " 'cross_validation_models',\n",
       " 'cross_validation_predictions',\n",
       " 'custom_distribution_func',\n",
       " 'custom_metric_func',\n",
       " 'deepfeatures',\n",
       " 'default_params',\n",
       " 'detach',\n",
       " 'distribution',\n",
       " 'download_model',\n",
       " 'download_mojo',\n",
       " 'download_pojo',\n",
       " 'end_time',\n",
       " 'export_checkpoints_dir',\n",
       " 'feature_frequencies',\n",
       " 'fit',\n",
       " 'fold_assignment',\n",
       " 'fold_column',\n",
       " 'full_parameters',\n",
       " 'get_params',\n",
       " 'get_xval_models',\n",
       " 'gini',\n",
       " 'have_mojo',\n",
       " 'have_pojo',\n",
       " 'histogram_type',\n",
       " 'huber_alpha',\n",
       " 'ignore_const_cols',\n",
       " 'ignored_columns',\n",
       " 'is_cross_validated',\n",
       " 'join',\n",
       " 'keep_cross_validation_fold_assignment',\n",
       " 'keep_cross_validation_models',\n",
       " 'keep_cross_validation_predictions',\n",
       " 'key',\n",
       " 'learn_rate',\n",
       " 'learn_rate_annealing',\n",
       " 'logloss',\n",
       " 'mae',\n",
       " 'max_abs_leafnode_pred',\n",
       " 'max_after_balance_size',\n",
       " 'max_confusion_matrix_size',\n",
       " 'max_depth',\n",
       " 'max_hit_ratio_k',\n",
       " 'max_runtime_secs',\n",
       " 'mean_residual_deviance',\n",
       " 'min_rows',\n",
       " 'min_split_improvement',\n",
       " 'mixin',\n",
       " 'model_id',\n",
       " 'model_performance',\n",
       " 'monotone_constraints',\n",
       " 'mse',\n",
       " 'nbins',\n",
       " 'nbins_cats',\n",
       " 'nbins_top_level',\n",
       " 'nfolds',\n",
       " 'normmul',\n",
       " 'normsub',\n",
       " 'ntrees',\n",
       " 'ntrees_actual',\n",
       " 'null_degrees_of_freedom',\n",
       " 'null_deviance',\n",
       " 'offset_column',\n",
       " 'param_names',\n",
       " 'params',\n",
       " 'partial_plot',\n",
       " 'pprint_coef',\n",
       " 'pr_auc',\n",
       " 'pred_noise_bandwidth',\n",
       " 'predict',\n",
       " 'predict_contributions',\n",
       " 'predict_leaf_node_assignment',\n",
       " 'quantile_alpha',\n",
       " 'r2',\n",
       " 'r2_stopping',\n",
       " 'residual_degrees_of_freedom',\n",
       " 'residual_deviance',\n",
       " 'respmul',\n",
       " 'response_column',\n",
       " 'respsub',\n",
       " 'rmse',\n",
       " 'rmsle',\n",
       " 'rotation',\n",
       " 'run_time',\n",
       " 'sample_rate',\n",
       " 'sample_rate_per_class',\n",
       " 'save_model_details',\n",
       " 'save_mojo',\n",
       " 'score_each_iteration',\n",
       " 'score_history',\n",
       " 'score_tree_interval',\n",
       " 'scoring_history',\n",
       " 'seed',\n",
       " 'set_params',\n",
       " 'show',\n",
       " 'staged_predict_proba',\n",
       " 'start',\n",
       " 'start_time',\n",
       " 'std_coef_plot',\n",
       " 'stopping_metric',\n",
       " 'stopping_rounds',\n",
       " 'stopping_tolerance',\n",
       " 'summary',\n",
       " 'train',\n",
       " 'training_frame',\n",
       " 'training_model_metrics',\n",
       " 'tweedie_power',\n",
       " 'type',\n",
       " 'validation_frame',\n",
       " 'varimp',\n",
       " 'varimp_plot',\n",
       " 'weights',\n",
       " 'weights_column',\n",
       " 'xval_keys',\n",
       " 'xvals']"
      ]
     },
     "execution_count": 10,
     "metadata": {},
     "output_type": "execute_result"
    }
   ],
   "source": [
    "dir(H2OGradientBoostingEstimator)"
   ]
  },
  {
   "cell_type": "markdown",
   "metadata": {},
   "source": [
    "The time() give the UTC amount of seconds that have elapsed in floating point values."
   ]
  },
  {
   "cell_type": "code",
   "execution_count": 11,
   "metadata": {},
   "outputs": [
    {
     "name": "stdout",
     "output_type": "stream",
     "text": [
      "gbm Model Build progress: |███████████████████████████████████████████████| 100%\n",
      "gbm Model Build progress: |███████████████████████████████████████████████| 100%\n",
      "gbm Model Build progress: |███████████████████████████████████████████████| 100%\n",
      "gbm Model Build progress: |███████████████████████████████████████████████| 100%\n",
      "gbm Model Build progress: |███████████████████████████████████████████████| 100%\n",
      "gbm Model Build progress: |███████████████████████████████████████████████| 100%\n",
      "gbm Model Build progress: |███████████████████████████████████████████████| 100%\n",
      "gbm Model Build progress: |███████████████████████████████████████████████| 100%\n",
      "gbm Model Build progress: |███████████████████████████████████████████████| 100%\n",
      "gbm Model Build progress: |███████████████████████████████████████████████| 100%\n"
     ]
    }
   ],
   "source": [
    "import time\n",
    "start = time.time()\n",
    "for key, num in enumerate(bin_num):\n",
    "    flights2_gbm = H2OGradientBoostingEstimator(nbins_cats=num, seed=1234)\n",
    "    flights2_gbm.train(x=predictors, y=response, training_frame=train, validation_frame=valid)\n",
    "end = time.time()\n",
    "predictionTime = (end-start)"
   ]
  },
  {
   "cell_type": "markdown",
   "metadata": {},
   "source": [
    "This is an alternate way of reading in the file for python 3.6"
   ]
  },
  {
   "cell_type": "code",
   "execution_count": 12,
   "metadata": {},
   "outputs": [
    {
     "name": "stdout",
     "output_type": "stream",
     "text": [
      "Model Details\n",
      "=============\n",
      "H2OGradientBoostingEstimator :  Gradient Boosting Machine\n",
      "Model Key:  GBM_model_python_1580859444109_10\n",
      "\n",
      "\n",
      "Model Summary: \n"
     ]
    },
    {
     "data": {
      "text/html": [
       "<div>\n",
       "<style scoped>\n",
       "    .dataframe tbody tr th:only-of-type {\n",
       "        vertical-align: middle;\n",
       "    }\n",
       "\n",
       "    .dataframe tbody tr th {\n",
       "        vertical-align: top;\n",
       "    }\n",
       "\n",
       "    .dataframe thead th {\n",
       "        text-align: right;\n",
       "    }\n",
       "</style>\n",
       "<table border=\"1\" class=\"dataframe\">\n",
       "  <thead>\n",
       "    <tr style=\"text-align: right;\">\n",
       "      <th></th>\n",
       "      <th></th>\n",
       "      <th>number_of_trees</th>\n",
       "      <th>number_of_internal_trees</th>\n",
       "      <th>model_size_in_bytes</th>\n",
       "      <th>min_depth</th>\n",
       "      <th>max_depth</th>\n",
       "      <th>mean_depth</th>\n",
       "      <th>min_leaves</th>\n",
       "      <th>max_leaves</th>\n",
       "      <th>mean_leaves</th>\n",
       "    </tr>\n",
       "  </thead>\n",
       "  <tbody>\n",
       "    <tr>\n",
       "      <td>0</td>\n",
       "      <td></td>\n",
       "      <td>50.0</td>\n",
       "      <td>50.0</td>\n",
       "      <td>110678.0</td>\n",
       "      <td>5.0</td>\n",
       "      <td>5.0</td>\n",
       "      <td>5.0</td>\n",
       "      <td>25.0</td>\n",
       "      <td>32.0</td>\n",
       "      <td>31.86</td>\n",
       "    </tr>\n",
       "  </tbody>\n",
       "</table>\n",
       "</div>"
      ],
      "text/plain": [
       "     number_of_trees  number_of_internal_trees  model_size_in_bytes  \\\n",
       "0               50.0                      50.0             110678.0   \n",
       "\n",
       "   min_depth  max_depth  mean_depth  min_leaves  max_leaves  mean_leaves  \n",
       "0        5.0        5.0         5.0        25.0        32.0        31.86  "
      ]
     },
     "metadata": {},
     "output_type": "display_data"
    },
    {
     "name": "stdout",
     "output_type": "stream",
     "text": [
      "\n",
      "\n",
      "ModelMetricsRegression: gbm\n",
      "** Reported on train data. **\n",
      "\n",
      "MSE: 1329.2825288940203\n",
      "RMSE: 36.459327049385045\n",
      "MAE: 18.118516320527252\n",
      "RMSLE: NaN\n",
      "Mean Residual Deviance: 1329.2825288940203\n",
      "\n",
      "ModelMetricsRegression: gbm\n",
      "** Reported on validation data. **\n",
      "\n",
      "MSE: 1353.0947850896957\n",
      "RMSE: 36.784436723833295\n",
      "MAE: 18.204540718600583\n",
      "RMSLE: NaN\n",
      "Mean Residual Deviance: 1353.0947850896957\n",
      "\n",
      "Scoring History: \n"
     ]
    },
    {
     "data": {
      "text/html": [
       "<div>\n",
       "<style scoped>\n",
       "    .dataframe tbody tr th:only-of-type {\n",
       "        vertical-align: middle;\n",
       "    }\n",
       "\n",
       "    .dataframe tbody tr th {\n",
       "        vertical-align: top;\n",
       "    }\n",
       "\n",
       "    .dataframe thead th {\n",
       "        text-align: right;\n",
       "    }\n",
       "</style>\n",
       "<table border=\"1\" class=\"dataframe\">\n",
       "  <thead>\n",
       "    <tr style=\"text-align: right;\">\n",
       "      <th></th>\n",
       "      <th></th>\n",
       "      <th>timestamp</th>\n",
       "      <th>duration</th>\n",
       "      <th>number_of_trees</th>\n",
       "      <th>training_rmse</th>\n",
       "      <th>training_mae</th>\n",
       "      <th>training_deviance</th>\n",
       "      <th>validation_rmse</th>\n",
       "      <th>validation_mae</th>\n",
       "      <th>validation_deviance</th>\n",
       "    </tr>\n",
       "  </thead>\n",
       "  <tbody>\n",
       "    <tr>\n",
       "      <td>0</td>\n",
       "      <td></td>\n",
       "      <td>2020-02-04 16:22:55</td>\n",
       "      <td>0.016 sec</td>\n",
       "      <td>0.0</td>\n",
       "      <td>37.031308</td>\n",
       "      <td>18.764566</td>\n",
       "      <td>1371.317777</td>\n",
       "      <td>37.278862</td>\n",
       "      <td>18.815101</td>\n",
       "      <td>1389.713527</td>\n",
       "    </tr>\n",
       "    <tr>\n",
       "      <td>1</td>\n",
       "      <td></td>\n",
       "      <td>2020-02-04 16:23:10</td>\n",
       "      <td>15.642 sec</td>\n",
       "      <td>3.0</td>\n",
       "      <td>36.896040</td>\n",
       "      <td>18.616960</td>\n",
       "      <td>1361.317750</td>\n",
       "      <td>37.148286</td>\n",
       "      <td>18.670488</td>\n",
       "      <td>1379.995136</td>\n",
       "    </tr>\n",
       "    <tr>\n",
       "      <td>2</td>\n",
       "      <td></td>\n",
       "      <td>2020-02-04 16:23:30</td>\n",
       "      <td>35.627 sec</td>\n",
       "      <td>7.0</td>\n",
       "      <td>36.782714</td>\n",
       "      <td>18.487281</td>\n",
       "      <td>1352.968056</td>\n",
       "      <td>37.043504</td>\n",
       "      <td>18.545082</td>\n",
       "      <td>1372.221222</td>\n",
       "    </tr>\n",
       "    <tr>\n",
       "      <td>3</td>\n",
       "      <td></td>\n",
       "      <td>2020-02-04 16:23:55</td>\n",
       "      <td>1 min  0.051 sec</td>\n",
       "      <td>12.0</td>\n",
       "      <td>36.701522</td>\n",
       "      <td>18.389381</td>\n",
       "      <td>1347.001735</td>\n",
       "      <td>36.970735</td>\n",
       "      <td>18.451143</td>\n",
       "      <td>1366.835236</td>\n",
       "    </tr>\n",
       "    <tr>\n",
       "      <td>4</td>\n",
       "      <td></td>\n",
       "      <td>2020-02-04 16:24:20</td>\n",
       "      <td>1 min 25.398 sec</td>\n",
       "      <td>17.0</td>\n",
       "      <td>36.646788</td>\n",
       "      <td>18.324858</td>\n",
       "      <td>1342.987095</td>\n",
       "      <td>36.923406</td>\n",
       "      <td>18.389741</td>\n",
       "      <td>1363.337878</td>\n",
       "    </tr>\n",
       "    <tr>\n",
       "      <td>5</td>\n",
       "      <td></td>\n",
       "      <td>2020-02-04 16:24:47</td>\n",
       "      <td>1 min 52.681 sec</td>\n",
       "      <td>22.0</td>\n",
       "      <td>36.605118</td>\n",
       "      <td>18.275130</td>\n",
       "      <td>1339.934657</td>\n",
       "      <td>36.889600</td>\n",
       "      <td>18.343364</td>\n",
       "      <td>1360.842615</td>\n",
       "    </tr>\n",
       "    <tr>\n",
       "      <td>6</td>\n",
       "      <td></td>\n",
       "      <td>2020-02-04 16:25:13</td>\n",
       "      <td>2 min 18.714 sec</td>\n",
       "      <td>27.0</td>\n",
       "      <td>36.573955</td>\n",
       "      <td>18.239270</td>\n",
       "      <td>1337.654157</td>\n",
       "      <td>36.865003</td>\n",
       "      <td>18.310246</td>\n",
       "      <td>1359.028479</td>\n",
       "    </tr>\n",
       "    <tr>\n",
       "      <td>7</td>\n",
       "      <td></td>\n",
       "      <td>2020-02-04 16:25:48</td>\n",
       "      <td>2 min 53.146 sec</td>\n",
       "      <td>34.0</td>\n",
       "      <td>36.529584</td>\n",
       "      <td>18.190719</td>\n",
       "      <td>1334.410508</td>\n",
       "      <td>36.831864</td>\n",
       "      <td>18.267077</td>\n",
       "      <td>1356.586210</td>\n",
       "    </tr>\n",
       "    <tr>\n",
       "      <td>8</td>\n",
       "      <td></td>\n",
       "      <td>2020-02-04 16:26:19</td>\n",
       "      <td>3 min 24.133 sec</td>\n",
       "      <td>40.0</td>\n",
       "      <td>36.497495</td>\n",
       "      <td>18.156603</td>\n",
       "      <td>1332.067112</td>\n",
       "      <td>36.808323</td>\n",
       "      <td>18.236518</td>\n",
       "      <td>1354.852620</td>\n",
       "    </tr>\n",
       "    <tr>\n",
       "      <td>9</td>\n",
       "      <td></td>\n",
       "      <td>2020-02-04 16:26:49</td>\n",
       "      <td>3 min 54.804 sec</td>\n",
       "      <td>46.0</td>\n",
       "      <td>36.473456</td>\n",
       "      <td>18.131413</td>\n",
       "      <td>1330.312994</td>\n",
       "      <td>36.792856</td>\n",
       "      <td>18.214934</td>\n",
       "      <td>1353.714281</td>\n",
       "    </tr>\n",
       "    <tr>\n",
       "      <td>10</td>\n",
       "      <td></td>\n",
       "      <td>2020-02-04 16:27:09</td>\n",
       "      <td>4 min 14.821 sec</td>\n",
       "      <td>50.0</td>\n",
       "      <td>36.459327</td>\n",
       "      <td>18.118516</td>\n",
       "      <td>1329.282529</td>\n",
       "      <td>36.784437</td>\n",
       "      <td>18.204541</td>\n",
       "      <td>1353.094785</td>\n",
       "    </tr>\n",
       "  </tbody>\n",
       "</table>\n",
       "</div>"
      ],
      "text/plain": [
       "                timestamp           duration  number_of_trees  training_rmse  \\\n",
       "0     2020-02-04 16:22:55          0.016 sec              0.0      37.031308   \n",
       "1     2020-02-04 16:23:10         15.642 sec              3.0      36.896040   \n",
       "2     2020-02-04 16:23:30         35.627 sec              7.0      36.782714   \n",
       "3     2020-02-04 16:23:55   1 min  0.051 sec             12.0      36.701522   \n",
       "4     2020-02-04 16:24:20   1 min 25.398 sec             17.0      36.646788   \n",
       "5     2020-02-04 16:24:47   1 min 52.681 sec             22.0      36.605118   \n",
       "6     2020-02-04 16:25:13   2 min 18.714 sec             27.0      36.573955   \n",
       "7     2020-02-04 16:25:48   2 min 53.146 sec             34.0      36.529584   \n",
       "8     2020-02-04 16:26:19   3 min 24.133 sec             40.0      36.497495   \n",
       "9     2020-02-04 16:26:49   3 min 54.804 sec             46.0      36.473456   \n",
       "10    2020-02-04 16:27:09   4 min 14.821 sec             50.0      36.459327   \n",
       "\n",
       "    training_mae  training_deviance  validation_rmse  validation_mae  \\\n",
       "0      18.764566        1371.317777        37.278862       18.815101   \n",
       "1      18.616960        1361.317750        37.148286       18.670488   \n",
       "2      18.487281        1352.968056        37.043504       18.545082   \n",
       "3      18.389381        1347.001735        36.970735       18.451143   \n",
       "4      18.324858        1342.987095        36.923406       18.389741   \n",
       "5      18.275130        1339.934657        36.889600       18.343364   \n",
       "6      18.239270        1337.654157        36.865003       18.310246   \n",
       "7      18.190719        1334.410508        36.831864       18.267077   \n",
       "8      18.156603        1332.067112        36.808323       18.236518   \n",
       "9      18.131413        1330.312994        36.792856       18.214934   \n",
       "10     18.118516        1329.282529        36.784437       18.204541   \n",
       "\n",
       "    validation_deviance  \n",
       "0           1389.713527  \n",
       "1           1379.995136  \n",
       "2           1372.221222  \n",
       "3           1366.835236  \n",
       "4           1363.337878  \n",
       "5           1360.842615  \n",
       "6           1359.028479  \n",
       "7           1356.586210  \n",
       "8           1354.852620  \n",
       "9           1353.714281  \n",
       "10          1353.094785  "
      ]
     },
     "metadata": {},
     "output_type": "display_data"
    },
    {
     "name": "stdout",
     "output_type": "stream",
     "text": [
      "\n",
      "Variable Importances: \n"
     ]
    },
    {
     "data": {
      "text/html": [
       "<div>\n",
       "<style scoped>\n",
       "    .dataframe tbody tr th:only-of-type {\n",
       "        vertical-align: middle;\n",
       "    }\n",
       "\n",
       "    .dataframe tbody tr th {\n",
       "        vertical-align: top;\n",
       "    }\n",
       "\n",
       "    .dataframe thead th {\n",
       "        text-align: right;\n",
       "    }\n",
       "</style>\n",
       "<table border=\"1\" class=\"dataframe\">\n",
       "  <thead>\n",
       "    <tr style=\"text-align: right;\">\n",
       "      <th></th>\n",
       "      <th>variable</th>\n",
       "      <th>relative_importance</th>\n",
       "      <th>scaled_importance</th>\n",
       "      <th>percentage</th>\n",
       "    </tr>\n",
       "  </thead>\n",
       "  <tbody>\n",
       "    <tr>\n",
       "      <td>0</td>\n",
       "      <td>ORIGIN_AIRPORT</td>\n",
       "      <td>319118368.0</td>\n",
       "      <td>1.000000</td>\n",
       "      <td>0.320754</td>\n",
       "    </tr>\n",
       "    <tr>\n",
       "      <td>1</td>\n",
       "      <td>MONTH</td>\n",
       "      <td>198638896.0</td>\n",
       "      <td>0.622461</td>\n",
       "      <td>0.199657</td>\n",
       "    </tr>\n",
       "    <tr>\n",
       "      <td>2</td>\n",
       "      <td>DESTINATION_AIRPORT</td>\n",
       "      <td>194843408.0</td>\n",
       "      <td>0.610568</td>\n",
       "      <td>0.195842</td>\n",
       "    </tr>\n",
       "    <tr>\n",
       "      <td>3</td>\n",
       "      <td>AIRLINE</td>\n",
       "      <td>132232376.0</td>\n",
       "      <td>0.414368</td>\n",
       "      <td>0.132910</td>\n",
       "    </tr>\n",
       "    <tr>\n",
       "      <td>4</td>\n",
       "      <td>FLIGHT_NUMBER</td>\n",
       "      <td>76783288.0</td>\n",
       "      <td>0.240611</td>\n",
       "      <td>0.077177</td>\n",
       "    </tr>\n",
       "    <tr>\n",
       "      <td>5</td>\n",
       "      <td>DAY_OF_WEEK</td>\n",
       "      <td>67829360.0</td>\n",
       "      <td>0.212552</td>\n",
       "      <td>0.068177</td>\n",
       "    </tr>\n",
       "    <tr>\n",
       "      <td>6</td>\n",
       "      <td>DISTANCE</td>\n",
       "      <td>5454050.5</td>\n",
       "      <td>0.017091</td>\n",
       "      <td>0.005482</td>\n",
       "    </tr>\n",
       "  </tbody>\n",
       "</table>\n",
       "</div>"
      ],
      "text/plain": [
       "              variable  relative_importance  scaled_importance  percentage\n",
       "0       ORIGIN_AIRPORT          319118368.0           1.000000    0.320754\n",
       "1                MONTH          198638896.0           0.622461    0.199657\n",
       "2  DESTINATION_AIRPORT          194843408.0           0.610568    0.195842\n",
       "3              AIRLINE          132232376.0           0.414368    0.132910\n",
       "4        FLIGHT_NUMBER           76783288.0           0.240611    0.077177\n",
       "5          DAY_OF_WEEK           67829360.0           0.212552    0.068177\n",
       "6             DISTANCE            5454050.5           0.017091    0.005482"
      ]
     },
     "metadata": {},
     "output_type": "display_data"
    },
    {
     "data": {
      "text/plain": []
     },
     "execution_count": 12,
     "metadata": {},
     "output_type": "execute_result"
    }
   ],
   "source": [
    "flights2_gbm"
   ]
  },
  {
   "cell_type": "code",
   "execution_count": 26,
   "metadata": {},
   "outputs": [
    {
     "data": {
      "text/plain": [
       "2393.457242488861"
      ]
     },
     "execution_count": 26,
     "metadata": {},
     "output_type": "execute_result"
    }
   ],
   "source": [
    "predictionTime"
   ]
  },
  {
   "cell_type": "code",
   "execution_count": 61,
   "metadata": {},
   "outputs": [
    {
     "name": "stdout",
     "output_type": "stream",
     "text": [
      "The minutes to run the above code on 5.8 million observations using H2O GBM with 10 bins:  39.89095404148102\n"
     ]
    }
   ],
   "source": [
    "print('The minutes to run the above code on 5.8 million observations using H2O GBM with 10 bins: ', predictionTime/60)"
   ]
  },
  {
   "cell_type": "code",
   "execution_count": 53,
   "metadata": {},
   "outputs": [],
   "source": [
    "import matplotlib.pyplot as plt\n",
    "import pandas as pd\n",
    "import numpy as np\n",
    "from sklearn.neighbors import KNeighborsClassifier\n",
    "from sklearn.model_selection import train_test_split\n",
    "from sklearn import preprocessing, tree\n",
    "from sklearn.metrics import classification_report, confusion_matrix"
   ]
  },
  {
   "cell_type": "code",
   "execution_count": 81,
   "metadata": {},
   "outputs": [],
   "source": [
    "\n",
    "flights = pd.read_csv('flights.csv', encoding='unicode_escape')"
   ]
  },
  {
   "cell_type": "code",
   "execution_count": 82,
   "metadata": {},
   "outputs": [
    {
     "data": {
      "text/plain": [
       "pandas.core.frame.DataFrame"
      ]
     },
     "execution_count": 82,
     "metadata": {},
     "output_type": "execute_result"
    }
   ],
   "source": [
    "type(flights)"
   ]
  },
  {
   "cell_type": "code",
   "execution_count": 83,
   "metadata": {},
   "outputs": [
    {
     "data": {
      "text/plain": [
       "YEAR                     int64\n",
       "MONTH                    int64\n",
       "DAY                      int64\n",
       "DAY_OF_WEEK              int64\n",
       "AIRLINE                 object\n",
       "FLIGHT_NUMBER            int64\n",
       "TAIL_NUMBER             object\n",
       "ORIGIN_AIRPORT          object\n",
       "DESTINATION_AIRPORT     object\n",
       "SCHEDULED_DEPARTURE      int64\n",
       "DEPARTURE_TIME         float64\n",
       "DEPARTURE_DELAY        float64\n",
       "TAXI_OUT               float64\n",
       "WHEELS_OFF             float64\n",
       "SCHEDULED_TIME         float64\n",
       "ELAPSED_TIME           float64\n",
       "AIR_TIME               float64\n",
       "DISTANCE                 int64\n",
       "WHEELS_ON              float64\n",
       "TAXI_IN                float64\n",
       "SCHEDULED_ARRIVAL        int64\n",
       "ARRIVAL_TIME           float64\n",
       "ARRIVAL_DELAY          float64\n",
       "DIVERTED                 int64\n",
       "CANCELLED                int64\n",
       "CANCELLATION_REASON     object\n",
       "AIR_SYSTEM_DELAY       float64\n",
       "SECURITY_DELAY         float64\n",
       "AIRLINE_DELAY          float64\n",
       "LATE_AIRCRAFT_DELAY    float64\n",
       "WEATHER_DELAY          float64\n",
       "dtype: object"
      ]
     },
     "execution_count": 83,
     "metadata": {},
     "output_type": "execute_result"
    }
   ],
   "source": [
    "flights.dtypes"
   ]
  },
  {
   "cell_type": "code",
   "execution_count": 85,
   "metadata": {},
   "outputs": [],
   "source": [
    "flights = flights.astype({\"YEAR\":'category', \"MONTH\":'category',\"DAY_OF_WEEK\":'category',\"FLIGHT_NUMBER\":'category',\"DISTANCE\":'category'})"
   ]
  },
  {
   "cell_type": "code",
   "execution_count": 86,
   "metadata": {},
   "outputs": [
    {
     "name": "stdout",
     "output_type": "stream",
     "text": [
      "<class 'pandas.core.frame.DataFrame'>\n",
      "RangeIndex: 5819079 entries, 0 to 5819078\n",
      "Data columns (total 31 columns):\n",
      "YEAR                   category\n",
      "MONTH                  category\n",
      "DAY                    int64\n",
      "DAY_OF_WEEK            category\n",
      "AIRLINE                object\n",
      "FLIGHT_NUMBER          category\n",
      "TAIL_NUMBER            object\n",
      "ORIGIN_AIRPORT         object\n",
      "DESTINATION_AIRPORT    object\n",
      "SCHEDULED_DEPARTURE    int64\n",
      "DEPARTURE_TIME         float64\n",
      "DEPARTURE_DELAY        float64\n",
      "TAXI_OUT               float64\n",
      "WHEELS_OFF             float64\n",
      "SCHEDULED_TIME         float64\n",
      "ELAPSED_TIME           float64\n",
      "AIR_TIME               float64\n",
      "DISTANCE               category\n",
      "WHEELS_ON              float64\n",
      "TAXI_IN                float64\n",
      "SCHEDULED_ARRIVAL      int64\n",
      "ARRIVAL_TIME           float64\n",
      "ARRIVAL_DELAY          float64\n",
      "DIVERTED               int64\n",
      "CANCELLED              int64\n",
      "CANCELLATION_REASON    object\n",
      "AIR_SYSTEM_DELAY       float64\n",
      "SECURITY_DELAY         float64\n",
      "AIRLINE_DELAY          float64\n",
      "LATE_AIRCRAFT_DELAY    float64\n",
      "WEATHER_DELAY          float64\n",
      "dtypes: category(5), float64(16), int64(5), object(5)\n",
      "memory usage: 1.2+ GB\n"
     ]
    }
   ],
   "source": [
    "flights.info()"
   ]
  },
  {
   "cell_type": "code",
   "execution_count": 87,
   "metadata": {},
   "outputs": [
    {
     "name": "stdout",
     "output_type": "stream",
     "text": [
      "(4655263, 5)\n",
      "(1163816, 5)\n",
      "(4655263,)\n",
      "(1163816,)\n"
     ]
    }
   ],
   "source": [
    "X = flights[['YEAR','MONTH','DAY_OF_WEEK','FLIGHT_NUMBER','DISTANCE']]\n",
    "y = flights['DEPARTURE_DELAY']\n"
   ]
  },
  {
   "cell_type": "code",
   "execution_count": 95,
   "metadata": {},
   "outputs": [],
   "source": [
    "flightsXY = pd.concat([X,y], axis=1)"
   ]
  },
  {
   "cell_type": "code",
   "execution_count": 97,
   "metadata": {},
   "outputs": [
    {
     "data": {
      "text/plain": [
       "(5819079, 6)"
      ]
     },
     "execution_count": 97,
     "metadata": {},
     "output_type": "execute_result"
    }
   ],
   "source": [
    "flightsXY.shape\n"
   ]
  },
  {
   "cell_type": "code",
   "execution_count": 99,
   "metadata": {},
   "outputs": [
    {
     "data": {
      "text/plain": [
       "(5732926, 6)"
      ]
     },
     "execution_count": 99,
     "metadata": {},
     "output_type": "execute_result"
    }
   ],
   "source": [
    "flightsXY = flightsXY.dropna()\n",
    "flightsXY.shape"
   ]
  },
  {
   "cell_type": "code",
   "execution_count": 102,
   "metadata": {},
   "outputs": [
    {
     "data": {
      "text/html": [
       "<div>\n",
       "<style scoped>\n",
       "    .dataframe tbody tr th:only-of-type {\n",
       "        vertical-align: middle;\n",
       "    }\n",
       "\n",
       "    .dataframe tbody tr th {\n",
       "        vertical-align: top;\n",
       "    }\n",
       "\n",
       "    .dataframe thead th {\n",
       "        text-align: right;\n",
       "    }\n",
       "</style>\n",
       "<table border=\"1\" class=\"dataframe\">\n",
       "  <thead>\n",
       "    <tr style=\"text-align: right;\">\n",
       "      <th></th>\n",
       "      <th>YEAR</th>\n",
       "      <th>MONTH</th>\n",
       "      <th>DAY_OF_WEEK</th>\n",
       "      <th>FLIGHT_NUMBER</th>\n",
       "      <th>DISTANCE</th>\n",
       "      <th>DEPARTURE_DELAY</th>\n",
       "    </tr>\n",
       "  </thead>\n",
       "  <tbody>\n",
       "    <tr>\n",
       "      <td>0</td>\n",
       "      <td>2015</td>\n",
       "      <td>1</td>\n",
       "      <td>4</td>\n",
       "      <td>98</td>\n",
       "      <td>1448</td>\n",
       "      <td>-11.0</td>\n",
       "    </tr>\n",
       "    <tr>\n",
       "      <td>1</td>\n",
       "      <td>2015</td>\n",
       "      <td>1</td>\n",
       "      <td>4</td>\n",
       "      <td>2336</td>\n",
       "      <td>2330</td>\n",
       "      <td>-8.0</td>\n",
       "    </tr>\n",
       "    <tr>\n",
       "      <td>2</td>\n",
       "      <td>2015</td>\n",
       "      <td>1</td>\n",
       "      <td>4</td>\n",
       "      <td>840</td>\n",
       "      <td>2296</td>\n",
       "      <td>-2.0</td>\n",
       "    </tr>\n",
       "    <tr>\n",
       "      <td>3</td>\n",
       "      <td>2015</td>\n",
       "      <td>1</td>\n",
       "      <td>4</td>\n",
       "      <td>258</td>\n",
       "      <td>2342</td>\n",
       "      <td>-5.0</td>\n",
       "    </tr>\n",
       "    <tr>\n",
       "      <td>4</td>\n",
       "      <td>2015</td>\n",
       "      <td>1</td>\n",
       "      <td>4</td>\n",
       "      <td>135</td>\n",
       "      <td>1448</td>\n",
       "      <td>-1.0</td>\n",
       "    </tr>\n",
       "    <tr>\n",
       "      <td>...</td>\n",
       "      <td>...</td>\n",
       "      <td>...</td>\n",
       "      <td>...</td>\n",
       "      <td>...</td>\n",
       "      <td>...</td>\n",
       "      <td>...</td>\n",
       "    </tr>\n",
       "    <tr>\n",
       "      <td>5819074</td>\n",
       "      <td>2015</td>\n",
       "      <td>12</td>\n",
       "      <td>4</td>\n",
       "      <td>688</td>\n",
       "      <td>2611</td>\n",
       "      <td>-4.0</td>\n",
       "    </tr>\n",
       "    <tr>\n",
       "      <td>5819075</td>\n",
       "      <td>2015</td>\n",
       "      <td>12</td>\n",
       "      <td>4</td>\n",
       "      <td>745</td>\n",
       "      <td>1617</td>\n",
       "      <td>-4.0</td>\n",
       "    </tr>\n",
       "    <tr>\n",
       "      <td>5819076</td>\n",
       "      <td>2015</td>\n",
       "      <td>12</td>\n",
       "      <td>4</td>\n",
       "      <td>1503</td>\n",
       "      <td>1598</td>\n",
       "      <td>-9.0</td>\n",
       "    </tr>\n",
       "    <tr>\n",
       "      <td>5819077</td>\n",
       "      <td>2015</td>\n",
       "      <td>12</td>\n",
       "      <td>4</td>\n",
       "      <td>333</td>\n",
       "      <td>1189</td>\n",
       "      <td>-6.0</td>\n",
       "    </tr>\n",
       "    <tr>\n",
       "      <td>5819078</td>\n",
       "      <td>2015</td>\n",
       "      <td>12</td>\n",
       "      <td>4</td>\n",
       "      <td>839</td>\n",
       "      <td>1576</td>\n",
       "      <td>15.0</td>\n",
       "    </tr>\n",
       "  </tbody>\n",
       "</table>\n",
       "<p>5732926 rows × 6 columns</p>\n",
       "</div>"
      ],
      "text/plain": [
       "         YEAR MONTH DAY_OF_WEEK FLIGHT_NUMBER DISTANCE  DEPARTURE_DELAY\n",
       "0        2015     1           4            98     1448            -11.0\n",
       "1        2015     1           4          2336     2330             -8.0\n",
       "2        2015     1           4           840     2296             -2.0\n",
       "3        2015     1           4           258     2342             -5.0\n",
       "4        2015     1           4           135     1448             -1.0\n",
       "...       ...   ...         ...           ...      ...              ...\n",
       "5819074  2015    12           4           688     2611             -4.0\n",
       "5819075  2015    12           4           745     1617             -4.0\n",
       "5819076  2015    12           4          1503     1598             -9.0\n",
       "5819077  2015    12           4           333     1189             -6.0\n",
       "5819078  2015    12           4           839     1576             15.0\n",
       "\n",
       "[5732926 rows x 6 columns]"
      ]
     },
     "execution_count": 102,
     "metadata": {},
     "output_type": "execute_result"
    }
   ],
   "source": [
    "flightsXY"
   ]
  },
  {
   "cell_type": "code",
   "execution_count": 103,
   "metadata": {},
   "outputs": [
    {
     "name": "stdout",
     "output_type": "stream",
     "text": [
      "(4586340, 5)\n",
      "(1146586, 5)\n",
      "(4586340,)\n",
      "(1146586,)\n"
     ]
    }
   ],
   "source": [
    "X = flightsXY.iloc[:,0:5].values\n",
    "y = flightsXY.iloc[:,5].values\n",
    "\n",
    "X_train, X_test, y_train, y_test = train_test_split(X,y, test_size=0.2, random_state=20)\n",
    "\n",
    "print(X_train.shape)\n",
    "print(X_test.shape)\n",
    "print(y_train.shape)\n",
    "print(y_test.shape)"
   ]
  },
  {
   "cell_type": "code",
   "execution_count": 104,
   "metadata": {},
   "outputs": [
    {
     "data": {
      "text/plain": [
       "array([[2015, 7, 3, 4098, 946],\n",
       "       [2015, 5, 3, 2981, 135],\n",
       "       [2015, 1, 6, 4096, 472],\n",
       "       ...,\n",
       "       [2015, 12, 3, 246, 991],\n",
       "       [2015, 7, 5, 5046, 83],\n",
       "       [2015, 3, 3, 3380, 351]], dtype=object)"
      ]
     },
     "execution_count": 104,
     "metadata": {},
     "output_type": "execute_result"
    }
   ],
   "source": [
    "X_train"
   ]
  },
  {
   "cell_type": "code",
   "execution_count": 105,
   "metadata": {},
   "outputs": [
    {
     "data": {
      "text/plain": [
       "array([363.,   3.,  -6., ...,  -4.,  -3.,  20.])"
      ]
     },
     "execution_count": 105,
     "metadata": {},
     "output_type": "execute_result"
    }
   ],
   "source": [
    "y_train"
   ]
  },
  {
   "cell_type": "code",
   "execution_count": 106,
   "metadata": {},
   "outputs": [
    {
     "data": {
      "text/plain": [
       "KNeighborsClassifier(algorithm='auto', leaf_size=30, metric='minkowski',\n",
       "                     metric_params=None, n_jobs=None, n_neighbors=5, p=2,\n",
       "                     weights='uniform')"
      ]
     },
     "execution_count": 106,
     "metadata": {},
     "output_type": "execute_result"
    }
   ],
   "source": [
    "knn = KNeighborsClassifier()\n",
    "knn.fit(X_train,\n",
    "        y_train)"
   ]
  },
  {
   "cell_type": "code",
   "execution_count": 107,
   "metadata": {},
   "outputs": [],
   "source": [
    "y_pred = knn.predict(X_test)"
   ]
  },
  {
   "cell_type": "code",
   "execution_count": 109,
   "metadata": {},
   "outputs": [
    {
     "name": "stdout",
     "output_type": "stream",
     "text": [
      "[[0 0 0 ... 0 0 0]\n",
      " [0 0 0 ... 0 0 0]\n",
      " [0 0 0 ... 0 0 0]\n",
      " ...\n",
      " [0 0 0 ... 0 0 0]\n",
      " [0 0 0 ... 0 0 0]\n",
      " [0 0 0 ... 0 0 0]]\n",
      "Accuracy:  0.06603516875315066\n"
     ]
    }
   ],
   "source": [
    "from sklearn.metrics import confusion_matrix\n",
    "from sklearn.metrics import accuracy_score\n",
    "cm = confusion_matrix(y_test, y_pred)\n",
    "print(cm)\n",
    "print('Accuracy: ',accuracy_score(y_test, y_pred))"
   ]
  },
  {
   "cell_type": "code",
   "execution_count": null,
   "metadata": {},
   "outputs": [],
   "source": []
  }
 ],
 "metadata": {
  "kernelspec": {
   "display_name": "Python 3",
   "language": "python",
   "name": "python3"
  },
  "language_info": {
   "codemirror_mode": {
    "name": "ipython",
    "version": 3
   },
   "file_extension": ".py",
   "mimetype": "text/x-python",
   "name": "python",
   "nbconvert_exporter": "python",
   "pygments_lexer": "ipython3",
   "version": "3.6.9"
  }
 },
 "nbformat": 4,
 "nbformat_minor": 2
}
